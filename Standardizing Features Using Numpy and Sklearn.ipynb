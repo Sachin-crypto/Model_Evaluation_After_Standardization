{
 "cells": [
  {
   "cell_type": "code",
   "execution_count": 3,
   "id": "0ad65070",
   "metadata": {},
   "outputs": [
    {
     "name": "stdout",
     "output_type": "stream",
     "text": [
      "Original Array: \n",
      " [[1.200e+01 7.000e-03]\n",
      " [4.500e+01 1.500e+00]\n",
      " [7.500e+01 2.005e+00]\n",
      " [7.000e+00 8.000e-01]\n",
      " [1.500e+01 4.500e-02]]\n",
      "Scaled Array: \n",
      " [[-0.72905466 -1.09507083]\n",
      " [ 0.55066894  0.79634605]\n",
      " [ 1.71405403  1.43610862]\n",
      " [-0.92295217 -0.09045356]\n",
      " [-0.61271615 -1.04693028]]\n"
     ]
    }
   ],
   "source": [
    "# Imported required libs\n",
    "import numpy as np\n",
    "from sklearn.preprocessing import StandardScaler\n",
    "\n",
    "# Creating a 2D array\n",
    "arr = np.asarray([[12, 0.007],\n",
    "                 [45, 1.5],\n",
    "                 [75, 2.005],\n",
    "                 [7, 0.8],\n",
    "                 [15, 0.045]])\n",
    "\n",
    "print(\"Original Array: \\n\", arr)\n",
    "\n",
    "# Instance of StandardScaler class\n",
    "scaler = StandardScaler()\n",
    "\n",
    "# Fitting and then transforming the input data\n",
    "arr_scaled = scaler.fit_transform(arr)\n",
    "print(\"Scaled Array: \\n\", arr_scaled)"
   ]
  },
  {
   "cell_type": "code",
   "execution_count": null,
   "id": "f05296c6",
   "metadata": {},
   "outputs": [],
   "source": []
  }
 ],
 "metadata": {
  "kernelspec": {
   "display_name": "Python 3 (ipykernel)",
   "language": "python",
   "name": "python3"
  },
  "language_info": {
   "codemirror_mode": {
    "name": "ipython",
    "version": 3
   },
   "file_extension": ".py",
   "mimetype": "text/x-python",
   "name": "python",
   "nbconvert_exporter": "python",
   "pygments_lexer": "ipython3",
   "version": "3.9.6"
  }
 },
 "nbformat": 4,
 "nbformat_minor": 5
}
