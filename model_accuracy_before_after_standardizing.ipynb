{
 "cells": [
  {
   "cell_type": "markdown",
   "id": "9e648c13",
   "metadata": {},
   "source": [
    "## Testing the Accuracy of the Model Before and After Standardizing the Features\n",
    "\n",
    "The KNN model is evaluated on the sklearn's breast cancer dataset to check if the accuracy of the model is impacted when the features of the dataset is standardized (scaled) using StandardScaler."
   ]
  },
  {
   "cell_type": "code",
   "execution_count": 1,
   "id": "1a42b8c3",
   "metadata": {},
   "outputs": [
    {
     "name": "stdout",
     "output_type": "stream",
     "text": [
      "Accuracy: 0.93\n"
     ]
    }
   ],
   "source": [
    "from sklearn import datasets\n",
    "from sklearn.model_selection import cross_val_score\n",
    "from sklearn.neighbors import KNeighborsClassifier\n",
    "from numpy import mean\n",
    "\n",
    "# load dataset\n",
    "df = datasets.load_breast_cancer()\n",
    "X = df.data\n",
    "y = df.target\n",
    "\n",
    "# Instantiating the model\n",
    "model = KNeighborsClassifier()\n",
    "\n",
    "# Evaluating the model\n",
    "scores = cross_val_score(model, X, y, scoring='accuracy', cv=10, n_jobs=-1)\n",
    "\n",
    "# Model's average score\n",
    "print(f'Accuracy: {mean(scores):.2f}')"
   ]
  },
  {
   "cell_type": "code",
   "execution_count": 2,
   "id": "3ca5d09a",
   "metadata": {},
   "outputs": [
    {
     "name": "stdout",
     "output_type": "stream",
     "text": [
      "Accuracy: 0.97\n"
     ]
    }
   ],
   "source": [
    "from sklearn import datasets\n",
    "from sklearn.model_selection import cross_val_score\n",
    "from sklearn.neighbors import KNeighborsClassifier\n",
    "from sklearn.preprocessing import StandardScaler\n",
    "from numpy import mean\n",
    "\n",
    "# loading dataset and configuring features and target variables\n",
    "df = datasets.load_breast_cancer()\n",
    "X = df.data\n",
    "y = df.target\n",
    "\n",
    "# Standardizing features\n",
    "scaler = StandardScaler()\n",
    "X_scaled = scaler.fit_transform(X)\n",
    "\n",
    "# Instantiating model\n",
    "model = KNeighborsClassifier()\n",
    "\n",
    "# Evaluating the model\n",
    "scores = cross_val_score(model, X_scaled, y, scoring='accuracy', cv=10, n_jobs=-1)\n",
    "\n",
    "# Model's average score\n",
    "print(f'Accuracy: {mean(scores):.2f}')"
   ]
  },
  {
   "cell_type": "code",
   "execution_count": null,
   "id": "3ae13017",
   "metadata": {},
   "outputs": [],
   "source": []
  }
 ],
 "metadata": {
  "kernelspec": {
   "display_name": "Python 3 (ipykernel)",
   "language": "python",
   "name": "python3"
  },
  "language_info": {
   "codemirror_mode": {
    "name": "ipython",
    "version": 3
   },
   "file_extension": ".py",
   "mimetype": "text/x-python",
   "name": "python",
   "nbconvert_exporter": "python",
   "pygments_lexer": "ipython3",
   "version": "3.9.6"
  }
 },
 "nbformat": 4,
 "nbformat_minor": 5
}
